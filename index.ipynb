{
 "cells": [
  {
   "cell_type": "markdown",
   "metadata": {},
   "source": [
    "# Join Statements - Lab\n",
    "\n",
    "## Introduction\n",
    "\n",
    "In this lab, you'll practice your knowledge of `JOIN` statements, using various types of joins and various methods for specifying the links between them.\n",
    "\n",
    "## Objectives\n",
    "\n",
    "You will be able to:\n",
    "* Write SQL queries that make use of various types of joins\n",
    "* Compare and contrast the various types of joins\n",
    "* Discuss how primary and foreign keys are used in SQL\n",
    "* Decide and perform whichever type of join is best for retrieving desired data"
   ]
  },
  {
   "cell_type": "markdown",
   "metadata": {},
   "source": [
    "## CRM Schema\n",
    "\n",
    "In almost all cases, rather than just working with a single table you will typically need data from multiple tables. \n",
    "Doing this requires the use of **joins** using shared columns from the two tables. \n",
    "\n",
    "In this lab, you'll use the same customer relationship management (CRM) database that you saw from the previous lesson.\n",
    "<img src='images/Database-Schema.png' width=\"600\">"
   ]
  },
  {
   "cell_type": "markdown",
   "metadata": {},
   "source": [
    "## Connecting to the Database\n",
    "Import the necessary packages and connect to the database `'data.sqlite'`."
   ]
  },
  {
   "cell_type": "code",
   "execution_count": 2,
   "metadata": {},
   "outputs": [],
   "source": [
    "import sqlite3\n",
    "import pandas as pd\n",
    "conn = sqlite3.connect('data.sqlite')\n",
    "cur = conn.cursor()"
   ]
  },
  {
   "cell_type": "markdown",
   "metadata": {},
   "source": [
    "## Display the names of all the employees in Boston \n",
    "\n",
    "Hint: join the employees and offices tables."
   ]
  },
  {
   "cell_type": "code",
   "execution_count": 10,
   "metadata": {},
   "outputs": [
    {
     "data": {
      "text/html": [
       "<div>\n",
       "<style scoped>\n",
       "    .dataframe tbody tr th:only-of-type {\n",
       "        vertical-align: middle;\n",
       "    }\n",
       "\n",
       "    .dataframe tbody tr th {\n",
       "        vertical-align: top;\n",
       "    }\n",
       "\n",
       "    .dataframe thead th {\n",
       "        text-align: right;\n",
       "    }\n",
       "</style>\n",
       "<table border=\"1\" class=\"dataframe\">\n",
       "  <thead>\n",
       "    <tr style=\"text-align: right;\">\n",
       "      <th></th>\n",
       "      <th>employeeNumber</th>\n",
       "      <th>lastName</th>\n",
       "      <th>firstName</th>\n",
       "      <th>extension</th>\n",
       "      <th>email</th>\n",
       "      <th>officeCode</th>\n",
       "      <th>reportsTo</th>\n",
       "      <th>jobTitle</th>\n",
       "      <th>city</th>\n",
       "      <th>phone</th>\n",
       "      <th>addressLine1</th>\n",
       "      <th>addressLine2</th>\n",
       "      <th>state</th>\n",
       "      <th>country</th>\n",
       "      <th>postalCode</th>\n",
       "      <th>territory</th>\n",
       "    </tr>\n",
       "  </thead>\n",
       "  <tbody>\n",
       "    <tr>\n",
       "      <th>0</th>\n",
       "      <td>1188</td>\n",
       "      <td>Firrelli</td>\n",
       "      <td>Julie</td>\n",
       "      <td>x2173</td>\n",
       "      <td>jfirrelli@classicmodelcars.com</td>\n",
       "      <td>2</td>\n",
       "      <td>1143</td>\n",
       "      <td>Sales Rep</td>\n",
       "      <td>Boston</td>\n",
       "      <td>+1 215 837 0825</td>\n",
       "      <td>1550 Court Place</td>\n",
       "      <td>Suite 102</td>\n",
       "      <td>MA</td>\n",
       "      <td>USA</td>\n",
       "      <td>02107</td>\n",
       "      <td>NA</td>\n",
       "    </tr>\n",
       "    <tr>\n",
       "      <th>1</th>\n",
       "      <td>1216</td>\n",
       "      <td>Patterson</td>\n",
       "      <td>Steve</td>\n",
       "      <td>x4334</td>\n",
       "      <td>spatterson@classicmodelcars.com</td>\n",
       "      <td>2</td>\n",
       "      <td>1143</td>\n",
       "      <td>Sales Rep</td>\n",
       "      <td>Boston</td>\n",
       "      <td>+1 215 837 0825</td>\n",
       "      <td>1550 Court Place</td>\n",
       "      <td>Suite 102</td>\n",
       "      <td>MA</td>\n",
       "      <td>USA</td>\n",
       "      <td>02107</td>\n",
       "      <td>NA</td>\n",
       "    </tr>\n",
       "  </tbody>\n",
       "</table>\n",
       "</div>"
      ],
      "text/plain": [
       "   employeeNumber   lastName firstName extension  \\\n",
       "0            1188   Firrelli     Julie     x2173   \n",
       "1            1216  Patterson     Steve     x4334   \n",
       "\n",
       "                             email  officeCode  reportsTo   jobTitle    city  \\\n",
       "0   jfirrelli@classicmodelcars.com           2       1143  Sales Rep  Boston   \n",
       "1  spatterson@classicmodelcars.com           2       1143  Sales Rep  Boston   \n",
       "\n",
       "             phone      addressLine1 addressLine2 state country postalCode  \\\n",
       "0  +1 215 837 0825  1550 Court Place    Suite 102    MA     USA      02107   \n",
       "1  +1 215 837 0825  1550 Court Place    Suite 102    MA     USA      02107   \n",
       "\n",
       "  territory  \n",
       "0        NA  \n",
       "1        NA  "
      ]
     },
     "execution_count": 10,
     "metadata": {},
     "output_type": "execute_result"
    }
   ],
   "source": [
    "cur.execute(\"\"\"SELECT *\n",
    "               FROM employees\n",
    "               JOIN offices\n",
    "               USING(officeCode)\n",
    "               WHERE city = 'Boston'\n",
    "            ;\"\"\")\n",
    "df = pd.DataFrame(cur.fetchall())\n",
    "df.columns = [i[0] for i in cur.description]\n",
    "df.head()"
   ]
  },
  {
   "cell_type": "markdown",
   "metadata": {},
   "source": [
    "## Are there any offices that have zero employees?\n",
    "Hint: Combine the employees and offices tables and use a group by."
   ]
  },
  {
   "cell_type": "code",
   "execution_count": 15,
   "metadata": {},
   "outputs": [
    {
     "data": {
      "text/html": [
       "<div>\n",
       "<style scoped>\n",
       "    .dataframe tbody tr th:only-of-type {\n",
       "        vertical-align: middle;\n",
       "    }\n",
       "\n",
       "    .dataframe tbody tr th {\n",
       "        vertical-align: top;\n",
       "    }\n",
       "\n",
       "    .dataframe thead th {\n",
       "        text-align: right;\n",
       "    }\n",
       "</style>\n",
       "<table border=\"1\" class=\"dataframe\">\n",
       "  <thead>\n",
       "    <tr style=\"text-align: right;\">\n",
       "      <th></th>\n",
       "      <th>officeCode</th>\n",
       "      <th>city</th>\n",
       "      <th>n_employees</th>\n",
       "    </tr>\n",
       "  </thead>\n",
       "  <tbody>\n",
       "    <tr>\n",
       "      <th>0</th>\n",
       "      <td>27</td>\n",
       "      <td>Boston</td>\n",
       "      <td>0</td>\n",
       "    </tr>\n",
       "  </tbody>\n",
       "</table>\n",
       "</div>"
      ],
      "text/plain": [
       "   officeCode    city  n_employees\n",
       "0          27  Boston            0"
      ]
     },
     "execution_count": 15,
     "metadata": {},
     "output_type": "execute_result"
    }
   ],
   "source": [
    "cur.execute(\"\"\"SELECT offices.officeCode, offices.city, COUNT(employees.employeeNumber) AS n_employees\n",
    "                FROM offices\n",
    "                LEFT JOIN employees\n",
    "                USING(officeCode)\n",
    "                GROUP BY officeCode\n",
    "                HAVING n_employees = 0\n",
    "               ;\"\"\")\n",
    "df = pd.DataFrame(cur.fetchall())\n",
    "df.columns = [i[0] for i in cur.description]\n",
    "df.head()"
   ]
  },
  {
   "cell_type": "markdown",
   "metadata": {},
   "source": [
    "## Write 3 Questions of your own and answer them"
   ]
  },
  {
   "cell_type": "code",
   "execution_count": null,
   "metadata": {},
   "outputs": [],
   "source": [
    "# Answers will vary\n",
    "# Example: Display the htmlDescription and employee's first and last name for each product that each employee has sold"
   ]
  },
  {
   "cell_type": "code",
   "execution_count": 16,
   "metadata": {},
   "outputs": [
    {
     "data": {
      "text/html": [
       "<div>\n",
       "<style scoped>\n",
       "    .dataframe tbody tr th:only-of-type {\n",
       "        vertical-align: middle;\n",
       "    }\n",
       "\n",
       "    .dataframe tbody tr th {\n",
       "        vertical-align: top;\n",
       "    }\n",
       "\n",
       "    .dataframe thead th {\n",
       "        text-align: right;\n",
       "    }\n",
       "</style>\n",
       "<table border=\"1\" class=\"dataframe\">\n",
       "  <thead>\n",
       "    <tr style=\"text-align: right;\">\n",
       "      <th></th>\n",
       "      <th>employeeNumber</th>\n",
       "      <th>firstName</th>\n",
       "      <th>lastName</th>\n",
       "      <th>employee_sales</th>\n",
       "    </tr>\n",
       "  </thead>\n",
       "  <tbody>\n",
       "    <tr>\n",
       "      <th>0</th>\n",
       "      <td>1165</td>\n",
       "      <td>Leslie</td>\n",
       "      <td>Jennings</td>\n",
       "      <td>6</td>\n",
       "    </tr>\n",
       "    <tr>\n",
       "      <th>1</th>\n",
       "      <td>1166</td>\n",
       "      <td>Leslie</td>\n",
       "      <td>Thompson</td>\n",
       "      <td>6</td>\n",
       "    </tr>\n",
       "    <tr>\n",
       "      <th>2</th>\n",
       "      <td>1188</td>\n",
       "      <td>Julie</td>\n",
       "      <td>Firrelli</td>\n",
       "      <td>6</td>\n",
       "    </tr>\n",
       "    <tr>\n",
       "      <th>3</th>\n",
       "      <td>1216</td>\n",
       "      <td>Steve</td>\n",
       "      <td>Patterson</td>\n",
       "      <td>6</td>\n",
       "    </tr>\n",
       "    <tr>\n",
       "      <th>4</th>\n",
       "      <td>1286</td>\n",
       "      <td>Foon Yue</td>\n",
       "      <td>Tseng</td>\n",
       "      <td>7</td>\n",
       "    </tr>\n",
       "  </tbody>\n",
       "</table>\n",
       "</div>"
      ],
      "text/plain": [
       "   employeeNumber firstName   lastName  employee_sales\n",
       "0            1165    Leslie   Jennings               6\n",
       "1            1166    Leslie   Thompson               6\n",
       "2            1188     Julie   Firrelli               6\n",
       "3            1216     Steve  Patterson               6\n",
       "4            1286  Foon Yue      Tseng               7"
      ]
     },
     "execution_count": 16,
     "metadata": {},
     "output_type": "execute_result"
    }
   ],
   "source": [
    "# How many customer did each employee have?\n",
    "\n",
    "cur.execute(\"\"\"SELECT employees.employeeNumber, employees.firstName, employees.LastName, COUNT(customers.customerNumber) AS employee_sales\n",
    "               FROM employees\n",
    "               JOIN customers\n",
    "               ON employees.employeeNumber = customers.salesRepEmployeeNumber\n",
    "               GROUP BY employees.employeeNumber\n",
    "            ;\"\"\")\n",
    "df = pd.DataFrame(cur.fetchall())\n",
    "df.columns = [i[0] for i in cur.description]\n",
    "df.head()"
   ]
  },
  {
   "cell_type": "code",
   "execution_count": null,
   "metadata": {},
   "outputs": [],
   "source": [
    "# Which product was sold most?"
   ]
  },
  {
   "cell_type": "code",
   "execution_count": 21,
   "metadata": {},
   "outputs": [
    {
     "data": {
      "text/html": [
       "<div>\n",
       "<style scoped>\n",
       "    .dataframe tbody tr th:only-of-type {\n",
       "        vertical-align: middle;\n",
       "    }\n",
       "\n",
       "    .dataframe tbody tr th {\n",
       "        vertical-align: top;\n",
       "    }\n",
       "\n",
       "    .dataframe thead th {\n",
       "        text-align: right;\n",
       "    }\n",
       "</style>\n",
       "<table border=\"1\" class=\"dataframe\">\n",
       "  <thead>\n",
       "    <tr style=\"text-align: right;\">\n",
       "      <th></th>\n",
       "      <th>productCode</th>\n",
       "      <th>productName</th>\n",
       "      <th>productLine</th>\n",
       "      <th>productScale</th>\n",
       "      <th>productVendor</th>\n",
       "      <th>productDescription</th>\n",
       "      <th>quantityInStock</th>\n",
       "      <th>buyPrice</th>\n",
       "      <th>MSRP</th>\n",
       "      <th>orderNumber</th>\n",
       "      <th>quantityOrdered</th>\n",
       "      <th>priceEach</th>\n",
       "      <th>orderLineNumber</th>\n",
       "    </tr>\n",
       "  </thead>\n",
       "  <tbody>\n",
       "    <tr>\n",
       "      <th>0</th>\n",
       "      <td>S12_4675</td>\n",
       "      <td>1969 Dodge Charger</td>\n",
       "      <td>Classic Cars</td>\n",
       "      <td>1:12</td>\n",
       "      <td>Welly Diecast Productions</td>\n",
       "      <td>Detailed model of the 1969 Dodge Charger. This...</td>\n",
       "      <td>7323</td>\n",
       "      <td>58.73</td>\n",
       "      <td>115.16</td>\n",
       "      <td>10405.0</td>\n",
       "      <td>97.0</td>\n",
       "      <td>115.16</td>\n",
       "      <td>5.0</td>\n",
       "    </tr>\n",
       "    <tr>\n",
       "      <th>1</th>\n",
       "      <td>S18_3278</td>\n",
       "      <td>1969 Dodge Super Bee</td>\n",
       "      <td>Classic Cars</td>\n",
       "      <td>1:18</td>\n",
       "      <td>Min Lin Diecast</td>\n",
       "      <td>This replica features opening doors, superb de...</td>\n",
       "      <td>1917</td>\n",
       "      <td>49.05</td>\n",
       "      <td>80.41</td>\n",
       "      <td>10404.0</td>\n",
       "      <td>90.0</td>\n",
       "      <td>67.54</td>\n",
       "      <td>6.0</td>\n",
       "    </tr>\n",
       "    <tr>\n",
       "      <th>2</th>\n",
       "      <td>S700_2466</td>\n",
       "      <td>America West Airlines B757-200</td>\n",
       "      <td>Planes</td>\n",
       "      <td>1:700</td>\n",
       "      <td>Motor City Art Classics</td>\n",
       "      <td>Official logos and insignias. Working steering...</td>\n",
       "      <td>9653</td>\n",
       "      <td>68.80</td>\n",
       "      <td>99.72</td>\n",
       "      <td>10401.0</td>\n",
       "      <td>85.0</td>\n",
       "      <td>98.72</td>\n",
       "      <td>10.0</td>\n",
       "    </tr>\n",
       "    <tr>\n",
       "      <th>3</th>\n",
       "      <td>S12_3990</td>\n",
       "      <td>1970 Plymouth Hemi Cuda</td>\n",
       "      <td>Classic Cars</td>\n",
       "      <td>1:12</td>\n",
       "      <td>Studio M Art Models</td>\n",
       "      <td>Very detailed 1970 Plymouth Cuda model in 1:12...</td>\n",
       "      <td>5663</td>\n",
       "      <td>31.92</td>\n",
       "      <td>79.80</td>\n",
       "      <td>10404.0</td>\n",
       "      <td>77.0</td>\n",
       "      <td>67.03</td>\n",
       "      <td>4.0</td>\n",
       "    </tr>\n",
       "    <tr>\n",
       "      <th>4</th>\n",
       "      <td>S700_3167</td>\n",
       "      <td>F/A 18 Hornet 1/72</td>\n",
       "      <td>Planes</td>\n",
       "      <td>1:72</td>\n",
       "      <td>Motor City Art Classics</td>\n",
       "      <td>10\" Wingspan with retractable landing gears.Co...</td>\n",
       "      <td>551</td>\n",
       "      <td>54.40</td>\n",
       "      <td>80.00</td>\n",
       "      <td>10401.0</td>\n",
       "      <td>77.0</td>\n",
       "      <td>73.60</td>\n",
       "      <td>9.0</td>\n",
       "    </tr>\n",
       "  </tbody>\n",
       "</table>\n",
       "</div>"
      ],
      "text/plain": [
       "  productCode                     productName   productLine productScale  \\\n",
       "0    S12_4675              1969 Dodge Charger  Classic Cars         1:12   \n",
       "1    S18_3278            1969 Dodge Super Bee  Classic Cars         1:18   \n",
       "2   S700_2466  America West Airlines B757-200        Planes        1:700   \n",
       "3    S12_3990         1970 Plymouth Hemi Cuda  Classic Cars         1:12   \n",
       "4   S700_3167              F/A 18 Hornet 1/72        Planes         1:72   \n",
       "\n",
       "               productVendor  \\\n",
       "0  Welly Diecast Productions   \n",
       "1            Min Lin Diecast   \n",
       "2    Motor City Art Classics   \n",
       "3        Studio M Art Models   \n",
       "4    Motor City Art Classics   \n",
       "\n",
       "                                  productDescription  quantityInStock  \\\n",
       "0  Detailed model of the 1969 Dodge Charger. This...             7323   \n",
       "1  This replica features opening doors, superb de...             1917   \n",
       "2  Official logos and insignias. Working steering...             9653   \n",
       "3  Very detailed 1970 Plymouth Cuda model in 1:12...             5663   \n",
       "4  10\" Wingspan with retractable landing gears.Co...              551   \n",
       "\n",
       "   buyPrice    MSRP  orderNumber  quantityOrdered  priceEach  orderLineNumber  \n",
       "0     58.73  115.16      10405.0             97.0     115.16              5.0  \n",
       "1     49.05   80.41      10404.0             90.0      67.54              6.0  \n",
       "2     68.80   99.72      10401.0             85.0      98.72             10.0  \n",
       "3     31.92   79.80      10404.0             77.0      67.03              4.0  \n",
       "4     54.40   80.00      10401.0             77.0      73.60              9.0  "
      ]
     },
     "execution_count": 21,
     "metadata": {},
     "output_type": "execute_result"
    }
   ],
   "source": [
    "cur.execute(\"\"\"SELECT *\n",
    "               FROM products\n",
    "               LEFT JOIN orderDetails\n",
    "               USING(productCode)\n",
    "               ORDER BY quantityOrdered DESC\n",
    "            ;\"\"\")\n",
    "df = pd.DataFrame(cur.fetchall())\n",
    "df.columns = [i[0] for i in cur.description]\n",
    "df.head()"
   ]
  },
  {
   "cell_type": "markdown",
   "metadata": {},
   "source": [
    "## Level Up: Display the names of every individual product that each employee has sold"
   ]
  },
  {
   "cell_type": "code",
   "execution_count": null,
   "metadata": {},
   "outputs": [],
   "source": [
    "cur.execute(\"\"\"SELECT productName \n",
    "               FROM products\n",
    "               LEFT JOIN orderDetails\n",
    "               USING(productCode)\n",
    "               ORDER BY quantityOrdered DESC\n",
    "            ;\"\"\")\n",
    "df = pd.DataFrame(cur.fetchall())\n",
    "df.columns = [i[0] for i in cur.description]\n",
    "df.head()"
   ]
  },
  {
   "cell_type": "markdown",
   "metadata": {},
   "source": [
    "## Level Up: Display the Number of Products each employee has sold"
   ]
  },
  {
   "cell_type": "code",
   "execution_count": null,
   "metadata": {},
   "outputs": [],
   "source": [
    "# Your code here"
   ]
  },
  {
   "cell_type": "markdown",
   "metadata": {},
   "source": [
    "## Summary"
   ]
  },
  {
   "cell_type": "markdown",
   "metadata": {},
   "source": [
    "Congrats! You practiced using join statements and leveraged your foreign keys knowledge!"
   ]
  }
 ],
 "metadata": {
  "kernelspec": {
   "display_name": "Python 3",
   "language": "python",
   "name": "python3"
  },
  "language_info": {
   "codemirror_mode": {
    "name": "ipython",
    "version": 3
   },
   "file_extension": ".py",
   "mimetype": "text/x-python",
   "name": "python",
   "nbconvert_exporter": "python",
   "pygments_lexer": "ipython3",
   "version": "3.7.6"
  },
  "toc": {
   "base_numbering": 1,
   "nav_menu": {},
   "number_sections": true,
   "sideBar": true,
   "skip_h1_title": false,
   "title_cell": "Table of Contents",
   "title_sidebar": "Contents",
   "toc_cell": false,
   "toc_position": {},
   "toc_section_display": true,
   "toc_window_display": false
  }
 },
 "nbformat": 4,
 "nbformat_minor": 2
}
